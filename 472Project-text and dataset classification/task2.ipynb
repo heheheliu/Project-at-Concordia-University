{
 "cells": [
  {
   "cell_type": "code",
   "execution_count": 154,
   "source": [
    "import numpy as np\n",
    "import pandas as pd\n",
    "import matplotlib.pyplot as plt\n",
    "import seaborn as sns\n",
    "sns.set_style(\"darkgrid\")\n"
   ],
   "outputs": [],
   "metadata": {}
  },
  {
   "cell_type": "code",
   "execution_count": 155,
   "source": [
    "ds = pd.read_csv(\"drug200.csv\")\n",
    "ds.head(10)"
   ],
   "outputs": [
    {
     "output_type": "execute_result",
     "data": {
      "text/html": [
       "<div>\n",
       "<style scoped>\n",
       "    .dataframe tbody tr th:only-of-type {\n",
       "        vertical-align: middle;\n",
       "    }\n",
       "\n",
       "    .dataframe tbody tr th {\n",
       "        vertical-align: top;\n",
       "    }\n",
       "\n",
       "    .dataframe thead th {\n",
       "        text-align: right;\n",
       "    }\n",
       "</style>\n",
       "<table border=\"1\" class=\"dataframe\">\n",
       "  <thead>\n",
       "    <tr style=\"text-align: right;\">\n",
       "      <th></th>\n",
       "      <th>Age</th>\n",
       "      <th>Sex</th>\n",
       "      <th>BP</th>\n",
       "      <th>Cholesterol</th>\n",
       "      <th>Na_to_K</th>\n",
       "      <th>Drug</th>\n",
       "    </tr>\n",
       "  </thead>\n",
       "  <tbody>\n",
       "    <tr>\n",
       "      <th>0</th>\n",
       "      <td>23</td>\n",
       "      <td>F</td>\n",
       "      <td>HIGH</td>\n",
       "      <td>HIGH</td>\n",
       "      <td>25.355</td>\n",
       "      <td>drugY</td>\n",
       "    </tr>\n",
       "    <tr>\n",
       "      <th>1</th>\n",
       "      <td>47</td>\n",
       "      <td>M</td>\n",
       "      <td>LOW</td>\n",
       "      <td>HIGH</td>\n",
       "      <td>13.093</td>\n",
       "      <td>drugC</td>\n",
       "    </tr>\n",
       "    <tr>\n",
       "      <th>2</th>\n",
       "      <td>47</td>\n",
       "      <td>M</td>\n",
       "      <td>LOW</td>\n",
       "      <td>HIGH</td>\n",
       "      <td>10.114</td>\n",
       "      <td>drugC</td>\n",
       "    </tr>\n",
       "    <tr>\n",
       "      <th>3</th>\n",
       "      <td>28</td>\n",
       "      <td>F</td>\n",
       "      <td>NORMAL</td>\n",
       "      <td>HIGH</td>\n",
       "      <td>7.798</td>\n",
       "      <td>drugX</td>\n",
       "    </tr>\n",
       "    <tr>\n",
       "      <th>4</th>\n",
       "      <td>61</td>\n",
       "      <td>F</td>\n",
       "      <td>LOW</td>\n",
       "      <td>HIGH</td>\n",
       "      <td>18.043</td>\n",
       "      <td>drugY</td>\n",
       "    </tr>\n",
       "    <tr>\n",
       "      <th>5</th>\n",
       "      <td>22</td>\n",
       "      <td>F</td>\n",
       "      <td>NORMAL</td>\n",
       "      <td>HIGH</td>\n",
       "      <td>8.607</td>\n",
       "      <td>drugX</td>\n",
       "    </tr>\n",
       "    <tr>\n",
       "      <th>6</th>\n",
       "      <td>49</td>\n",
       "      <td>F</td>\n",
       "      <td>NORMAL</td>\n",
       "      <td>HIGH</td>\n",
       "      <td>16.275</td>\n",
       "      <td>drugY</td>\n",
       "    </tr>\n",
       "    <tr>\n",
       "      <th>7</th>\n",
       "      <td>41</td>\n",
       "      <td>M</td>\n",
       "      <td>LOW</td>\n",
       "      <td>HIGH</td>\n",
       "      <td>11.037</td>\n",
       "      <td>drugC</td>\n",
       "    </tr>\n",
       "    <tr>\n",
       "      <th>8</th>\n",
       "      <td>60</td>\n",
       "      <td>M</td>\n",
       "      <td>NORMAL</td>\n",
       "      <td>HIGH</td>\n",
       "      <td>15.171</td>\n",
       "      <td>drugY</td>\n",
       "    </tr>\n",
       "    <tr>\n",
       "      <th>9</th>\n",
       "      <td>43</td>\n",
       "      <td>M</td>\n",
       "      <td>LOW</td>\n",
       "      <td>NORMAL</td>\n",
       "      <td>19.368</td>\n",
       "      <td>drugY</td>\n",
       "    </tr>\n",
       "  </tbody>\n",
       "</table>\n",
       "</div>"
      ],
      "text/plain": [
       "   Age Sex      BP Cholesterol  Na_to_K   Drug\n",
       "0   23   F    HIGH        HIGH   25.355  drugY\n",
       "1   47   M     LOW        HIGH   13.093  drugC\n",
       "2   47   M     LOW        HIGH   10.114  drugC\n",
       "3   28   F  NORMAL        HIGH    7.798  drugX\n",
       "4   61   F     LOW        HIGH   18.043  drugY\n",
       "5   22   F  NORMAL        HIGH    8.607  drugX\n",
       "6   49   F  NORMAL        HIGH   16.275  drugY\n",
       "7   41   M     LOW        HIGH   11.037  drugC\n",
       "8   60   M  NORMAL        HIGH   15.171  drugY\n",
       "9   43   M     LOW      NORMAL   19.368  drugY"
      ]
     },
     "metadata": {},
     "execution_count": 155
    }
   ],
   "metadata": {}
  },
  {
   "cell_type": "code",
   "execution_count": 156,
   "source": [
    "ds[\"Drug\"].hist()"
   ],
   "outputs": [
    {
     "output_type": "execute_result",
     "data": {
      "text/plain": [
       "<AxesSubplot:>"
      ]
     },
     "metadata": {},
     "execution_count": 156
    },
    {
     "output_type": "display_data",
     "data": {
      "image/png": "[encoded data removed]",
      "text/plain": [
       "<Figure size 432x288 with 1 Axes>"
      ]
     },
     "metadata": {}
    }
   ],
   "metadata": {}
  },
  {
   "cell_type": "code",
   "execution_count": 157,
   "source": [
    "#3 Plot the distribution of the instances in each class and store the graphic in a file calles drug-distribution.pdf\n",
    "# Description of the dataset\n",
    "print('SHAPE OF DATASET: ', ds.shape, '\\n\\nCOLUMNS IN DATASET: ', ds.columns,'\\n\\nDrug ClASS IN DATASET: ',ds.Drug.unique(),)"
   ],
   "outputs": [
    {
     "output_type": "stream",
     "name": "stdout",
     "text": [
      "SHAPE OF DATASET:  (200, 6) \n",
      "\n",
      "COLUMNS IN DATASET:  Index(['Age', 'Sex', 'BP', 'Cholesterol', 'Na_to_K', 'Drug'], dtype='object') \n",
      "\n",
      "Drug ClASS IN DATASET:  ['drugY' 'drugC' 'drugX' 'drugA' 'drugB']\n"
     ]
    }
   ],
   "metadata": {}
  },
  {
   "cell_type": "code",
   "execution_count": 158,
   "source": [
    "#first count each class then print bar graph\n",
    "plt.title(\"drug-distribution graph\")\n",
    "plt.xlabel('Drug Class')\n",
    "plt.ylabel(\"Count\")\n",
    "print(ds[\"Drug\"].hist())\n",
    "\n",
    "plt.savefig('drug-Distribution.pdf')\n",
    "\n",
    "plt.show()"
   ],
   "outputs": [
    {
     "output_type": "stream",
     "name": "stdout",
     "text": [
      "AxesSubplot(0.125,0.125;0.775x0.755)\n"
     ]
    },
    {
     "output_type": "display_data",
     "data": {
      "image/png": "[encoded data removed]",
      "text/plain": [
       "<Figure size 432x288 with 1 Axes>"
      ]
     },
     "metadata": {}
    }
   ],
   "metadata": {}
  },
  {
   "cell_type": "code",
   "execution_count": 159,
   "source": [
    "#Grouping and perform count over each drug class\n",
    "num =  ds.groupby('Drug')['Drug'].count()\n",
    "print(num)"
   ],
   "outputs": [
    {
     "output_type": "stream",
     "name": "stdout",
     "text": [
      "Drug\n",
      "drugA    23\n",
      "drugB    16\n",
      "drugC    16\n",
      "drugX    54\n",
      "drugY    91\n",
      "Name: Drug, dtype: int64\n"
     ]
    }
   ],
   "metadata": {}
  },
  {
   "cell_type": "markdown",
   "source": [
    "#Replacing categorical values of Sex column by dummy variables (Because it is independent category i.e. No one is higher or lower)"
   ],
   "metadata": {}
  },
  {
   "cell_type": "code",
   "execution_count": 160,
   "source": [
    "#use dummies 特征提取 one hot encode\n",
    "dummy_variable_sex = pd.get_dummies(ds.Sex)\n",
    "# Concatenate \n",
    "data = pd.concat([ds, dummy_variable_sex], axis=1)\n",
    "print(data.head(5))\n",
    "# Drop sex column\n",
    "data.drop(\"Sex\", axis = 1, inplace=True)\n",
    "print(data.head(5))"
   ],
   "outputs": [
    {
     "output_type": "stream",
     "name": "stdout",
     "text": [
      "   Age Sex      BP Cholesterol  Na_to_K   Drug  F  M\n",
      "0   23   F    HIGH        HIGH   25.355  drugY  1  0\n",
      "1   47   M     LOW        HIGH   13.093  drugC  0  1\n",
      "2   47   M     LOW        HIGH   10.114  drugC  0  1\n",
      "3   28   F  NORMAL        HIGH    7.798  drugX  1  0\n",
      "4   61   F     LOW        HIGH   18.043  drugY  1  0\n",
      "   Age      BP Cholesterol  Na_to_K   Drug  F  M\n",
      "0   23    HIGH        HIGH   25.355  drugY  1  0\n",
      "1   47     LOW        HIGH   13.093  drugC  0  1\n",
      "2   47     LOW        HIGH   10.114  drugC  0  1\n",
      "3   28  NORMAL        HIGH    7.798  drugX  1  0\n",
      "4   61     LOW        HIGH   18.043  drugY  1  0\n"
     ]
    }
   ],
   "metadata": {}
  },
  {
   "cell_type": "code",
   "execution_count": 161,
   "source": [
    "#Extracting target variable  提取列数据 \n",
    "y = data.iloc[:, -3].values #take Drug column "
   ],
   "outputs": [],
   "metadata": {}
  },
  {
   "cell_type": "code",
   "execution_count": 162,
   "source": [
    "# Dropping Drug column\n",
    "dataset = data.drop(\"Drug\", axis = 1, inplace=False)\n",
    "print(dataset.head(5))"
   ],
   "outputs": [
    {
     "output_type": "stream",
     "name": "stdout",
     "text": [
      "   Age      BP Cholesterol  Na_to_K  F  M\n",
      "0   23    HIGH        HIGH   25.355  1  0\n",
      "1   47     LOW        HIGH   13.093  0  1\n",
      "2   47     LOW        HIGH   10.114  0  1\n",
      "3   28  NORMAL        HIGH    7.798  1  0\n",
      "4   61     LOW        HIGH   18.043  1  0\n"
     ]
    }
   ],
   "metadata": {}
  },
  {
   "cell_type": "markdown",
   "source": [
    "#Replacing categorical values of BP and Cholesterol column by Label encoder (Because this is dependent ie higher and lower)"
   ],
   "metadata": {}
  },
  {
   "cell_type": "code",
   "execution_count": 163,
   "source": [
    "# Converting dataframe into arrays\n",
    "dataset_array = dataset.values\n",
    "dataset_array"
   ],
   "outputs": [
    {
     "output_type": "execute_result",
     "data": {
      "text/plain": [
       "array([[23, 'HIGH', 'HIGH', 25.355, 1, 0],\n",
       "       [47, 'LOW', 'HIGH', 13.093, 0, 1],\n",
       "       [47, 'LOW', 'HIGH', 10.114, 0, 1],\n",
       "       ...,\n",
       "       [52, 'NORMAL', 'HIGH', 9.894, 0, 1],\n",
       "       [23, 'NORMAL', 'NORMAL', 14.02, 0, 1],\n",
       "       [40, 'LOW', 'NORMAL', 11.349, 1, 0]], dtype=object)"
      ]
     },
     "metadata": {},
     "execution_count": 163
    }
   ],
   "metadata": {}
  },
  {
   "cell_type": "code",
   "execution_count": 164,
   "source": [
    "# Using sklearn library's LabelEncoder class\n",
    "# Encode BP label with value between 0 and n_classes-1\n",
    "from sklearn.preprocessing import LabelEncoder\n",
    "le_BP = LabelEncoder()\n",
    "le_BP.fit([ 'LOW', 'NORMAL', 'HIGH'])\n",
    "dataset_array[:,1] = le_BP.transform(dataset_array[:,1])\n",
    "dataset_array"
   ],
   "outputs": [
    {
     "output_type": "execute_result",
     "data": {
      "text/plain": [
       "array([[23, 0, 'HIGH', 25.355, 1, 0],\n",
       "       [47, 1, 'HIGH', 13.093, 0, 1],\n",
       "       [47, 1, 'HIGH', 10.114, 0, 1],\n",
       "       ...,\n",
       "       [52, 2, 'HIGH', 9.894, 0, 1],\n",
       "       [23, 2, 'NORMAL', 14.02, 0, 1],\n",
       "       [40, 1, 'NORMAL', 11.349, 1, 0]], dtype=object)"
      ]
     },
     "metadata": {},
     "execution_count": 164
    }
   ],
   "metadata": {}
  },
  {
   "cell_type": "code",
   "execution_count": 165,
   "source": [
    "# Using sklearn library's LabelEncoder class\n",
    "# Encode Cholesterol label with value between 0 and n_classes-1\n",
    "le_Chole = LabelEncoder()\n",
    "le_Chole.fit([ 'LOW', 'NORMAL', 'HIGH'])\n",
    "print(le_Chole.transform(['LOW', 'NORMAL', 'HIGH']))\n",
    "dataset_array[:,2] = le_Chole.transform(dataset_array[:,2])\n",
    "X = dataset_array\n",
    "X"
   ],
   "outputs": [
    {
     "output_type": "stream",
     "name": "stdout",
     "text": [
      "[1 2 0]\n"
     ]
    },
    {
     "output_type": "execute_result",
     "data": {
      "text/plain": [
       "array([[23, 0, 0, 25.355, 1, 0],\n",
       "       [47, 1, 0, 13.093, 0, 1],\n",
       "       [47, 1, 0, 10.114, 0, 1],\n",
       "       ...,\n",
       "       [52, 2, 0, 9.894, 0, 1],\n",
       "       [23, 2, 2, 14.02, 0, 1],\n",
       "       [40, 1, 2, 11.349, 1, 0]], dtype=object)"
      ]
     },
     "metadata": {},
     "execution_count": 165
    }
   ],
   "metadata": {}
  },
  {
   "cell_type": "markdown",
   "source": [
    "#Splitting the dataset into the Train set and Test set"
   ],
   "metadata": {}
  },
  {
   "cell_type": "code",
   "execution_count": 166,
   "source": [
    "from sklearn.model_selection import train_test_split\n",
    "X_train, X_test, y_train, y_test = train_test_split(X, y, test_size=None, train_size=None, random_state=None, shuffle=True, stratify=None)"
   ],
   "outputs": [],
   "metadata": {}
  },
  {
   "cell_type": "markdown",
   "source": [
    "#NB:a Gaussian Naive Bayes Classifier (naivebayes.GaussianNB) with the default parameters.\n",
    "\n",
    "#naivebayes.GaussianNB"
   ],
   "metadata": {}
  },
  {
   "cell_type": "code",
   "execution_count": 167,
   "source": [
    "f=open('drugs-performance.txt','w')"
   ],
   "outputs": [],
   "metadata": {}
  },
  {
   "cell_type": "markdown",
   "source": [
    "# a)GaussianNB default parameters"
   ],
   "metadata": {}
  },
  {
   "cell_type": "code",
   "execution_count": 168,
   "source": [
    "# GaussianNB Naive Bayes\n",
    "print(\"--------------------------------GaussianNB default values-----------------------------------\", file=f)\n",
    "from sklearn.naive_bayes import GaussianNB\n",
    "#Create a Gaussian Classifier\n",
    "gnb = GaussianNB()\n",
    "\n",
    "#Train the model using the training sets\n",
    "gnb.fit(X_train, y_train)\n",
    "\n",
    "\n",
    "# predict, Perform classification on an array of test vectors X.\n",
    "y_pred_class = gnb.predict(X_test)\n",
    "# predict probabilities, Return probability estimates for the test vector X.\n",
    "y_pred_proba = gnb.predict_proba(X_test)\n",
    "\n",
    "# b) confusion matrix\n",
    "from sklearn import metrics\n",
    "confusion = metrics.confusion_matrix(y_test, y_pred_class)\n",
    "print(\"(b) the confusion matrix: \", file=f)\n",
    "print(confusion, file=f)\n",
    "\n",
    "# c) the precision, recall and F1-measure for each class\n",
    "print(\"(c) the precision, recall and F1-measure for each class of the test set : \", file=f)\n",
    "print(metrics.classification_report(y_test, y_pred_class),file=f)\n",
    "\n",
    "\n",
    "\n",
    "# d) the accuracy, macro-average F1 and weighted-average F1 of the model\n",
    "\n",
    "accuracy = metrics.accuracy_score(y_test, y_pred_class)\n",
    "print(\"(d) the accuracy, macro-average F1 and weighted-average F1 of the model: \", file=f)\n",
    "print(\"Accuracy score of the test set is : \" + str(accuracy), file=f)\n",
    "\n",
    "macro_avg_F1 = metrics.f1_score(y_test, y_pred_class, average='macro')\n",
    "print(\"Macro average F1 of the test set is : \" + str(macro_avg_F1), file=f)\n",
    "weighted_avg_F1 = metrics.f1_score(y_test, y_pred_class, average='weighted')\n",
    "print(\"Weighted average F1 of the test set is : \" + str(weighted_avg_F1), file=f)"
   ],
   "outputs": [],
   "metadata": {}
  },
  {
   "cell_type": "markdown",
   "source": [
    "# b)Base-DT classifier"
   ],
   "metadata": {}
  },
  {
   "cell_type": "code",
   "execution_count": 169,
   "source": [
    "# Decision Tree\n",
    "print(\"--------------------------------Decision Tree default values-----------------------------------\", file=f)\n",
    "from sklearn.tree import DecisionTreeClassifier # Import Decision Tree Classifier\n",
    "#Create a Decision Tree Classifier\n",
    "mod2 = DecisionTreeClassifier()\n",
    "\n",
    "#Train the model using the training sets\n",
    "mod2.fit(X_train, y_train)\n",
    "\n",
    "# predict, Perform classification on an array of test vectors X.\n",
    "y_pred_class = mod2.predict(X_test)\n",
    "# predict probabilities, Return probability estimates for the test vector X.\n",
    "y_pred_proba = mod2.predict_proba(X_test)\n",
    "\n",
    "# b) confusion matrix\n",
    "confusion = metrics.confusion_matrix(y_test, y_pred_class)\n",
    "print(\"(b) the confusion matrix: \", file=f)\n",
    "print(confusion, file=f)\n",
    "\n",
    "# c) the precision, recall and F1-measure for each class\n",
    "print(\"(c) the precision, recall and F1-measure for each class of the test set : \", file=f)\n",
    "print(metrics.classification_report(y_test, y_pred_class),file=f)\n",
    "\n",
    "\n",
    "# d) the accuracy, macro-average F1 and weighted-average F1 of the model\n",
    "\n",
    "accuracy = metrics.accuracy_score(y_test, y_pred_class)\n",
    "print(\"(d) the accuracy, macro-average F1 and weighted-average F1 of the model: \", file=f)\n",
    "print(\"Accuracy score of the test set is : \" + str(accuracy), file=f)\n",
    "\n",
    "macro_avg_F1 = metrics.f1_score(y_test, y_pred_class, average='macro')\n",
    "print(\"Macro average F1 of the test set is : \" + str(macro_avg_F1), file=f)\n",
    "weighted_avg_F1 = metrics.f1_score(y_test, y_pred_class, average='weighted')\n",
    "print(\"Weighted average F1 of the test set is : \" + str(weighted_avg_F1), file=f)"
   ],
   "outputs": [],
   "metadata": {}
  },
  {
   "cell_type": "markdown",
   "source": [
    "# c) Top-DT \n"
   ],
   "metadata": {}
  },
  {
   "cell_type": "code",
   "execution_count": 170,
   "source": [
    " # GridSearchCV\n",
    " # find the best combination of hyper-parameters\n",
    " # as determined by the evalustion function that you have determined in step3\n",
    "\n",
    "print(\"--------------------------------Top-DT hyperoarameter values-----------------------------------\", file=f)\n",
    "\n",
    "from sklearn.model_selection import GridSearchCV\n",
    "#Create a Decision tree Classifier\n",
    "mod3 = DecisionTreeClassifier()\n",
    "params = {'criterion': ['gini','entropy'],'max_depth':[3,5],'min_samples_split':[3,5,7]}\n",
    "#Create the grid search object\n",
    "grid = GridSearchCV(mod3, param_grid=params, cv=5)\n",
    "#Fit the grid search objet to the data to compute the optimal model\n",
    "grid = grid.fit(X_train, y_train)\n",
    "print('best_estimator:', grid.best_params_, 'best_score:', grid.best_score_, file=f)\n",
    "\n",
    "\n",
    "\n",
    "# use best combination of hyper-parameters to train X\n",
    "mod3_best = grid.best_estimator_\n",
    "mod3_best.fit(X_train, y_train)\n",
    "\n",
    "# predict, Perform classification on an array of test vectors X.\n",
    "y_pred_class = mod3_best.predict(X_test)\n",
    "#print('train score: ', mod3_best.score(X_train,y_train), 'test score: ', mod3_best.score(X_test,y_test))\n",
    "\n",
    "\n",
    "# b) confusion matrix\n",
    "confusion = metrics.confusion_matrix(y_test, y_pred_class)\n",
    "print(\"(b) the confusion matrix: \", file=f)\n",
    "print(confusion, file=f)\n",
    "\n",
    "# c) the precision, recall and F1-measure for each class\n",
    "print(\"(c) the precision, recall and F1-measure for each class of the test set : \", file=f)\n",
    "print(metrics.classification_report(y_test, y_pred_class),file=f)\n",
    "\n",
    "\n",
    "# d) the accuracy, macro-average F1 and weighted-average F1 of the model\n",
    "\n",
    "accuracy = metrics.accuracy_score(y_test, y_pred_class)\n",
    "print(\"(d) the accuracy, macro-average F1 and weighted-average F1 of the model: \", file=f)\n",
    "print(\"Accuracy score of the test set is : \" + str(accuracy), file=f)\n",
    "macro_avg_F1 = metrics.f1_score(y_test, y_pred_class, average='macro')\n",
    "print(\"Macro average F1 of the test set is : \" + str(macro_avg_F1), file=f)\n",
    "weighted_avg_F1 = metrics.f1_score(y_test, y_pred_class, average='weighted')\n",
    "print(\"Weighted average F1 of the test set is : \" + str(weighted_avg_F1), file=f)"
   ],
   "outputs": [],
   "metadata": {}
  },
  {
   "cell_type": "markdown",
   "source": [
    "# d) PER: Perceptron(linear_model.Perceptron) with default parameter values\n",
    " "
   ],
   "metadata": {}
  },
  {
   "cell_type": "code",
   "execution_count": 171,
   "source": [
    "\n",
    "print(\"--------------------------------PER with default parameter values-----------------------------------\", file=f)\n",
    "\n",
    "from sklearn.linear_model import Perceptron\n",
    "import warnings\n",
    "warnings.filterwarnings('ignore')\n",
    "\n",
    "# create Perceptron()\n",
    "mod4 = Perceptron()\n",
    "\n",
    "# fit training dataset\n",
    "mod4.fit(X_train, y_train)\n",
    "# predict, Perform classification on an array of test vectors X.\n",
    "y_pred_class = mod4.predict(X_test)\n",
    "\n",
    "# b) confusion matrix\n",
    "confusion = metrics.confusion_matrix(y_test, y_pred_class)\n",
    "print(\"(b) the confusion matrix: \", file=f)\n",
    "print(confusion, file=f)\n",
    "\n",
    "# c) the precision, recall and F1-measure for each class\n",
    "print(\"(c) the precision, recall and F1-measure for each class of the test set : \", file=f)\n",
    "print(metrics.classification_report(y_test, y_pred_class), file=f)\n",
    "\n",
    "\n",
    "# d) the accuracy, macro-average F1 and weighted-average F1 of the model\n",
    "\n",
    "accuracy = metrics.accuracy_score(y_test, y_pred_class)\n",
    "print(\"(d) the accuracy, macro-average F1 and weighted-average F1 of the model: \", file=f)\n",
    "print(\"Accuracy score of the test set is : \" + str(accuracy), file=f)\n",
    "macro_avg_F1 = metrics.f1_score(y_test, y_pred_class, average='macro')\n",
    "print(\"Macro average F1 of the test set is : \" + str(macro_avg_F1), file=f)\n",
    "weighted_avg_F1 = metrics.f1_score(y_test, y_pred_class, average='weighted')\n",
    "print(\"Weighted average F1 of the test set is : \" + str(weighted_avg_F1), file=f)\n",
    "\n",
    "\n"
   ],
   "outputs": [],
   "metadata": {}
  },
  {
   "cell_type": "markdown",
   "source": [
    "# e) Base-MLP:(neural_network.MLPClassifier) with 1 hidden layer of 100 neurons, sigmoid/logistic as activation function , stochastic gradient descent and default values for the rest of parameter"
   ],
   "metadata": {}
  },
  {
   "cell_type": "code",
   "execution_count": 172,
   "source": [
    "print(\"--------------------------------Base-MLP with default parameter values-----------------------------------\",file=f)\n",
    "\n",
    "from sklearn.neural_network import MLPClassifier\n",
    "import warnings\n",
    "warnings.filterwarnings(\"ignore\")\n",
    "\n",
    "\n",
    "# create MLP classifier\n",
    "mod5 = MLPClassifier(hidden_layer_sizes=(100), activation='logistic', solver='sgd')\n",
    "\n",
    "# fit training dataset\n",
    "mod5.fit(X_train, y_train)\n",
    "# predict, Perform classification on an array of test vectors X.\n",
    "y_pred_class = mod5.predict(X_test)\n",
    "\n",
    "# b) confusion matrix\n",
    "confusion = metrics.confusion_matrix(y_test, y_pred_class)\n",
    "print(\"(b) the confusion matrix: \", file=f)\n",
    "print(confusion, file=f)\n",
    "\n",
    "# c) the precision, recall and F1-measure for each class\n",
    "print(\"(c) the precision, recall and F1-measure for each class of the test set : \", file=f)\n",
    "print(metrics.classification_report(y_test, y_pred_class), file=f)\n",
    "\n",
    "\n",
    "# d) the accuracy, macro-average F1 and weighted-average F1 of the model\n",
    "\n",
    "accuracy = metrics.accuracy_score(y_test, y_pred_class)\n",
    "print(\"(d) the accuracy, macro-average F1 and weighted-average F1 of the model: \", file=f)\n",
    "print(\"Accuracy score of the test set is : \" + str(accuracy), file=f)\n",
    "macro_avg_F1 = metrics.f1_score(y_test, y_pred_class, average='macro')\n",
    "print(\"Macro average F1 of the test set is : \" + str(macro_avg_F1), file=f)\n",
    "weighted_avg_F1 = metrics.f1_score(y_test, y_pred_class, average='weighted')\n",
    "print(\"Weighted average F1 of the test set is : \" + str(weighted_avg_F1), file=f)\n",
    "\n"
   ],
   "outputs": [],
   "metadata": {}
  },
  {
   "cell_type": "markdown",
   "source": [
    "# f) TOP-MLP \n",
    "2 hidden layer with 30+50 nodes, or 3 hidden layer with 10+10+10"
   ],
   "metadata": {}
  },
  {
   "cell_type": "code",
   "execution_count": 173,
   "source": [
    "# GridSearchCV\n",
    " # find the best combination of hyper-parameters\n",
    " # as determined by the evalustion function that you have determined in step3\n",
    "\n",
    "print(\"--------------------------------Top-MLP hyperoarameter values-----------------------------------\", file=f)\n",
    "\n",
    "\n",
    "#Create a base MLP Classifier\n",
    "mod6 = MLPClassifier()\n",
    "params = {  'hidden_layer_sizes': [(30,50,), (10,10,10,)],\n",
    "    'activation': ['logistic', 'tanh', 'relu', 'identity'],\n",
    "    'solver': ['adam', 'sgd']}\n",
    "#Create the grid search object\n",
    "grid = GridSearchCV(mod6, param_grid=params)\n",
    "#Fit the grid search objet to the data to compute the optimal model\n",
    "grid = grid.fit(X_train, y_train)\n",
    "print('a) best parameter:', grid.best_params_,file=f)\n",
    "hidden_layer_sizes_ = grid.best_params_['hidden_layer_sizes']\n",
    "activation_= grid.best_params_['activation']\n",
    "solver_= grid.best_params_['solver']\n",
    "# use best combination of hyper-parameters to train X\n",
    "mod6_best=MLPClassifier(hidden_layer_sizes=hidden_layer_sizes_,activation=activation_,solver=solver_)\n",
    "mod6_best.fit(X_train,y_train)\n",
    "\n",
    "\n",
    "# predict, Perform classification on an array of test vectors X.\n",
    "y_pred_class = mod6_best.predict(X_test)\n",
    "\n",
    "\n",
    "\n",
    "# b) confusion matrix\n",
    "confusion = metrics.confusion_matrix(y_test, y_pred_class)\n",
    "print(\"(b) the confusion matrix: \", file=f)\n",
    "print(confusion,file=f)\n",
    "\n",
    "# c) the precision, recall and F1-measure for each class\n",
    "print(\"(c) the precision, recall and F1-measure for each class of the test set : \",file=f)\n",
    "print(metrics.classification_report(y_test, y_pred_class),file=f)\n",
    "\n",
    "\n",
    "# d) the accuracy, macro-average F1 and weighted-average F1 of the model\n",
    "\n",
    "accuracy = metrics.accuracy_score(y_test, y_pred_class)\n",
    "print(\"(d) the accuracy, macro-average F1 and weighted-average F1 of the model: \",file=f)\n",
    "print(\"Accuracy score of the test set is : \" + str(accuracy),file=f)\n",
    "macro_avg_F1 = metrics.f1_score(y_test, y_pred_class, average='macro')\n",
    "print(\"Macro average F1 of the test set is : \" + str(macro_avg_F1),file=f)\n",
    "weighted_avg_F1 = metrics.f1_score(y_test, y_pred_class, average='weighted')\n",
    "print(\"Weighted average F1 of the test set is : \" + str(weighted_avg_F1),file=f)"
   ],
   "outputs": [],
   "metadata": {}
  },
  {
   "cell_type": "code",
   "execution_count": 174,
   "source": [
    "import statistics\n",
    "a=[]\n",
    "for i in range(5):\n",
    "    a.append(i)\n",
    "print(statistics.stdev(a))\n",
    "\n",
    " \n",
    "# creating a simple data - set\n",
    "sample = [1,1,1,1,1]\n",
    " \n",
    "# Prints standard deviation\n",
    "# xbar is set to default value of 1\n",
    "print(\"Standard Deviation of sample is  \"+ str(statistics.stdev(sample)))"
   ],
   "outputs": [
    {
     "output_type": "stream",
     "name": "stdout",
     "text": [
      "1.5811388300841898\n",
      "Standard Deviation of sample is  0.0\n"
     ]
    }
   ],
   "metadata": {}
  },
  {
   "cell_type": "markdown",
   "source": [
    "# repeat 10 times"
   ],
   "metadata": {}
  },
  {
   "cell_type": "code",
   "execution_count": 175,
   "source": [
    "import statistics \n",
    "totalAccuray=0\n",
    "totalMacro=0\n",
    "totalWeight=0\n",
    "a=[]\n",
    "m=[]\n",
    "w=[]\n",
    "print('**************************************************************************************',file=f)\n",
    "print(\"************************this is 10 times***************************************\",file=f)\n",
    "print(\"********************************************************************************\",file=f)\n",
    "print(\"--------------------------------GaussianNB default values-----------------------------------\", file=f)\n",
    "    \n",
    "for i in range(10):\n",
    "   \n",
    "#Create a Gaussian Classifier\n",
    "    gnb = GaussianNB()\n",
    "\n",
    "#Train the model using the training sets\n",
    "    gnb.fit(X_train, y_train)\n",
    "\n",
    "# predict, Perform classification on an array of test vectors X.\n",
    "    y_pred_class = gnb.predict(X_test)\n",
    "# predict probabilities, Return probability estimates for the test vector X.\n",
    "    y_pred_proba = gnb.predict_proba(X_test)\n",
    "\n",
    "# b) confusion matrix\n",
    "\n",
    "    confusion = metrics.confusion_matrix(y_test, y_pred_class)\n",
    "\n",
    "# d) the accuracy, macro-average F1 and weighted-average F1 of the model\n",
    "\n",
    "    accuracy = metrics.accuracy_score(y_test, y_pred_class)\n",
    "    a.append(accuracy)\n",
    "    totalAccuray+=accuracy\n",
    " \n",
    "    macro_avg_F1 = metrics.f1_score(y_test, y_pred_class, average='macro')\n",
    "    m.append(macro_avg_F1)\n",
    "    totalMacro+=macro_avg_F1\n",
    "  \n",
    "    weighted_avg_F1 = metrics.f1_score(y_test, y_pred_class, average='weighted')\n",
    "    w.append(weighted_avg_F1)\n",
    "    totalWeight+=weighted_avg_F1\n",
    "    \n",
    "print(\"the list of accuracy\"+str(a), file=f)\n",
    "print(\"average of accuracy score of hte test set is :\"+str(totalAccuray/10), file=f)\n",
    "print(\"standard deviation for accuracy: \"+str(statistics.stdev(a)), file=f)\n",
    "print(\"the list of Macro average F1\"+str(m), file=f)\n",
    "print(\"average of Macro average F1 of the test set is : \" + str(totalMacro/10), file=f)\n",
    "print(\"standard deviation for Macro average F1: \"+str(statistics.stdev(m)), file=f)\n",
    "print(\"the list of weight average F1: \"+str(w), file=f)\n",
    "print(\"average of Weighted average F1 of the test set is : \" + str(totalWeight/10), file=f)\n",
    "print(\"standard deviation for weight average F1: \"+str(statistics.stdev(w)), file=f)\n"
   ],
   "outputs": [],
   "metadata": {}
  },
  {
   "cell_type": "code",
   "execution_count": 176,
   "source": [
    "totalAccuray=0\n",
    "totalMacro=0\n",
    "totalWeight=0\n",
    "a=[]\n",
    "m=[]\n",
    "w=[]\n",
    "print('**************************************************************************************',file=f)\n",
    "\n",
    "        # Decision Tree\n",
    "print(\"--------------------------------Decision Tree default values-----------------------------------\", file=f)\n",
    "    \n",
    "for i in range(10):\n",
    "    \n",
    "    #Create a Decision Tree Classifier\n",
    "    mod2 = DecisionTreeClassifier()\n",
    "\n",
    "    #Train the model using the training sets\n",
    "    mod2.fit(X_train, y_train)\n",
    "\n",
    "    # predict, Perform classification on an array of test vectors X.\n",
    "    y_pred_class = mod2.predict(X_test)\n",
    "    # predict probabilities, Return probability estimates for the test vector X.\n",
    "    y_pred_proba = mod2.predict_proba(X_test)\n",
    "\n",
    "    # b) confusion matrix\n",
    "    confusion = metrics.confusion_matrix(y_test, y_pred_class)\n",
    "\n",
    "    # d) the accuracy, macro-average F1 and weighted-average F1 of the model\n",
    "\n",
    "    accuracy = metrics.accuracy_score(y_test, y_pred_class)\n",
    "    \n",
    "    macro_avg_F1 = metrics.f1_score(y_test, y_pred_class, average='macro')\n",
    "    \n",
    "    \n",
    "    weighted_avg_F1 = metrics.f1_score(y_test, y_pred_class, average='weighted')\n",
    "    a.append(accuracy)\n",
    "    m.append(macro_avg_F1)\n",
    "    w.append(weighted_avg_F1)\n",
    "    totalAccuray+=accuracy\n",
    "    totalMacro+=macro_avg_F1\n",
    "    totalWeight+=weighted_avg_F1\n",
    "    \n",
    "print(\"the list of accuracy\"+str(a), file=f)\n",
    "print(\"average of accuracy score of hte test set is :\"+str(totalAccuray/10), file=f)\n",
    "print(\"standard deviation for accuracy: \"+str(statistics.stdev(a)), file=f)\n",
    "print(\"the list of Macro average F1\"+str(m), file=f)\n",
    "print(\"average of Macro average F1 of the test set is : \" + str(totalMacro/10), file=f)\n",
    "print(\"standard deviation for Macro average F1: \"+str(statistics.stdev(m)), file=f)\n",
    "print(\"the list of weight average F1: \"+str(w), file=f)\n",
    "print(\"average of Weighted average F1 of the test set is : \" + str(totalWeight/10), file=f)\n",
    "print(\"standard deviation for weight average F1: \"+str(statistics.stdev(w)), file=f)\n"
   ],
   "outputs": [],
   "metadata": {}
  },
  {
   "cell_type": "code",
   "execution_count": 177,
   "source": [
    "totalAccuray=0\n",
    "totalMacro=0\n",
    "totalWeight=0\n",
    "a=[]\n",
    "m=[]\n",
    "w=[]\n",
    "print('**************************************************************************************')\n",
    "print(\"--------------------------------Top-DT hyperoarameter values-----------------------------------\", file=f)\n",
    "\n",
    "for i in range(10):    \n",
    "    \n",
    "    #Create a Decision tree Classifier\n",
    "    mod3 = DecisionTreeClassifier()\n",
    "    params = {'criterion': ['gini','entropy'],'max_depth':[3,5],'min_samples_split':[3,5,7]}\n",
    "    #Create the grid search object\n",
    "    grid = GridSearchCV(mod3, param_grid=params, cv=5)\n",
    "    #Fit the grid search objet to the data to compute the optimal model\n",
    "    grid = grid.fit(X_train, y_train)\n",
    "  \n",
    "\n",
    "    # use best combination of hyper-parameters to train X\n",
    "    mod3_best = grid.best_estimator_\n",
    "    mod3_best.fit(X_train, y_train)\n",
    "\n",
    "    # predict, Perform classification on an array of test vectors X.\n",
    "    y_pred_class = mod3_best.predict(X_test)\n",
    "    #print('train score: ', mod3_best.score(X_train,y_train), 'test score: ', mod3_best.score(X_test,y_test))\n",
    "\n",
    "\n",
    "    # b) confusion matrix\n",
    "    confusion = metrics.confusion_matrix(y_test, y_pred_class)\n",
    "   \n",
    "    # c) the precision, recall and F1-measure for each class\n",
    "  \n",
    "\n",
    "    # d) the accuracy, macro-average F1 and weighted-average F1 of the model\n",
    "\n",
    "    accuracy = metrics.accuracy_score(y_test, y_pred_class)\n",
    "    \n",
    "    macro_avg_F1 = metrics.f1_score(y_test, y_pred_class, average='macro')\n",
    "\n",
    "    weighted_avg_F1 = metrics.f1_score(y_test, y_pred_class, average='weighted')\n",
    "    \n",
    "    a.append(accuracy)\n",
    "    m.append(macro_avg_F1)\n",
    "    w.append(weighted_avg_F1)\n",
    "    totalAccuray+=accuracy\n",
    "    totalMacro+=macro_avg_F1\n",
    "    totalWeight+=weighted_avg_F1\n",
    "    \n",
    "print(\"the list of accuracy\"+str(a), file=f)\n",
    "print(\"average of accuracy score of hte test set is :\"+str(totalAccuray/10), file=f)\n",
    "print(\"standard deviation for accuracy: \"+str(statistics.stdev(a)), file=f)\n",
    "print(\"the list of Macro average F1\"+str(m), file=f)\n",
    "print(\"average of Macro average F1 of the test set is : \" + str(totalMacro/10), file=f)\n",
    "print(\"standard deviation for Macro average F1: \"+str(statistics.stdev(m)), file=f)\n",
    "print(\"the list of weight average F1: \"+str(w), file=f)\n",
    "print(\"average of Weighted average F1 of the test set is : \" + str(totalWeight/10), file=f)\n",
    "print(\"standard deviation for weight average F1: \"+str(statistics.stdev(w)), file=f)\n"
   ],
   "outputs": [
    {
     "output_type": "stream",
     "name": "stdout",
     "text": [
      "**************************************************************************************\n"
     ]
    }
   ],
   "metadata": {}
  },
  {
   "cell_type": "code",
   "execution_count": 178,
   "source": [
    "totalAccuray=0\n",
    "totalMacro=0\n",
    "totalWeight=0\n",
    "a=[]\n",
    "m=[]\n",
    "w=[]\n",
    "print('**************************************************************************************')\n",
    "print(\"--------------------------------PER with default parameter values-----------------------------------\", file=f)\n",
    "\n",
    "for i in range(10):\n",
    "   \n",
    "    # create Perceptron()\n",
    "    mod4 = Perceptron()\n",
    "\n",
    "    # fit training dataset\n",
    "    mod4.fit(X_train, y_train)\n",
    "    # predict, Perform classification on an array of test vectors X.\n",
    "    y_pred_class = mod4.predict(X_test)\n",
    "\n",
    "    # b) confusion matrix\n",
    "    confusion = metrics.confusion_matrix(y_test, y_pred_class)\n",
    "   \n",
    "\n",
    "    # c) the precision, recall and F1-measure for each class\n",
    "  \n",
    "\n",
    "    # d) the accuracy, macro-average F1 and weighted-average F1 of the model\n",
    "\n",
    "    accuracy = metrics.accuracy_score(y_test, y_pred_class)\n",
    "  \n",
    "    macro_avg_F1 = metrics.f1_score(y_test, y_pred_class, average='macro')\n",
    "  \n",
    "    weighted_avg_F1 = metrics.f1_score(y_test, y_pred_class, average='weighted')\n",
    "  \n",
    "    a.append(accuracy)\n",
    "    m.append(macro_avg_F1)\n",
    "    w.append(weighted_avg_F1)\n",
    "    totalAccuray+=accuracy\n",
    "    totalMacro+=macro_avg_F1\n",
    "    totalWeight+=weighted_avg_F1\n",
    "    \n",
    "print(\"the list of accuracy\"+str(a), file=f)\n",
    "print(\"average of accuracy score of hte test set is :\"+str(totalAccuray/10), file=f)\n",
    "print(\"standard deviation for accuracy: \"+str(statistics.stdev(a)), file=f)\n",
    "print(\"the list of Macro average F1\"+str(m), file=f)\n",
    "print(\"average of Macro average F1 of the test set is : \" + str(totalMacro/10), file=f)\n",
    "print(\"standard deviation for Macro average F1: \"+str(statistics.stdev(m)), file=f)\n",
    "print(\"the list of weight average F1: \"+str(w), file=f)\n",
    "print(\"average of Weighted average F1 of the test set is : \" + str(totalWeight/10), file=f)\n",
    "print(\"standard deviation for weight average F1: \"+str(statistics.stdev(w)), file=f)\n"
   ],
   "outputs": [
    {
     "output_type": "stream",
     "name": "stdout",
     "text": [
      "**************************************************************************************\n"
     ]
    }
   ],
   "metadata": {}
  },
  {
   "cell_type": "code",
   "execution_count": 179,
   "source": [
    "totalAccuray=0\n",
    "totalMacro=0\n",
    "totalWeight=0\n",
    "a=[]\n",
    "m=[]\n",
    "w=[]\n",
    "print('**************************************************************************************')\n",
    "print(\"--------------------------------Base-MLP with default parameter values-----------------------------------\",file=f)\n",
    "\n",
    "for i in range(10):\n",
    "    \n",
    "    # create MLP classifier\n",
    "    mod5 = MLPClassifier(hidden_layer_sizes=(100), activation='logistic', solver='sgd')\n",
    "\n",
    "    # fit training dataset\n",
    "    mod5.fit(X_train, y_train)\n",
    "    # predict, Perform classification on an array of test vectors X.\n",
    "    y_pred_class = mod5.predict(X_test)\n",
    "\n",
    "    # b) confusion matrix\n",
    "    confusion = metrics.confusion_matrix(y_test, y_pred_class)\n",
    "  \n",
    "    # c) the precision, recall and F1-measure for each class\n",
    "  \n",
    "\n",
    "    # d) the accuracy, macro-average F1 and weighted-average F1 of the model\n",
    "\n",
    "    accuracy = metrics.accuracy_score(y_test, y_pred_class)\n",
    "    \n",
    "    macro_avg_F1 = metrics.f1_score(y_test, y_pred_class, average='macro')\n",
    "   # print(\"Macro average F1 of the test set is : \" + str(macro_avg_F1), file=f)\n",
    "    weighted_avg_F1 = metrics.f1_score(y_test, y_pred_class, average='weighted')\n",
    "    #print(\"Weighted average F1 of the test set is : \" + str(weighted_avg_F1), file=f)\n",
    "    GridSearchCV\n",
    "    # find the best combination of hyper-parameters\n",
    "    # as determined by the evalustion function that you have determined in step3\n",
    "    a.append(accuracy)\n",
    "    m.append(macro_avg_F1)\n",
    "    w.append(weighted_avg_F1)\n",
    "    totalAccuray+=accuracy\n",
    "    totalMacro+=macro_avg_F1\n",
    "    totalWeight+=weighted_avg_F1\n",
    "    \n",
    "print(\"the list of accuracy\"+str(a), file=f)\n",
    "print(\"average of accuracy score of hte test set is :\"+str(totalAccuray/10), file=f)\n",
    "print(\"standard deviation for accuracy: \"+str(statistics.stdev(a)), file=f)\n",
    "print(\"the list of Macro average F1\"+str(m), file=f)\n",
    "print(\"average of Macro average F1 of the test set is : \" + str(totalMacro/10), file=f)\n",
    "print(\"standard deviation for Macro average F1: \"+str(statistics.stdev(m)), file=f)\n",
    "print(\"the list of weight average F1: \"+str(w), file=f)\n",
    "print(\"average of Weighted average F1 of the test set is : \" + str(totalWeight/10), file=f)\n",
    "print(\"standard deviation for weight average F1: \"+str(statistics.stdev(w)), file=f)\n"
   ],
   "outputs": [
    {
     "output_type": "stream",
     "name": "stdout",
     "text": [
      "**************************************************************************************\n"
     ]
    }
   ],
   "metadata": {}
  },
  {
   "cell_type": "code",
   "execution_count": 180,
   "source": [
    "\n",
    "totalAccuray=0\n",
    "totalMacro=0\n",
    "totalWeight=0\n",
    "a=[]\n",
    "m=[]\n",
    "w=[]\n",
    "print('**************************************************************************************')\n",
    "print(\"--------------------------------Top-MLP hyperoarameter values-----------------------------------\", file=f)\n",
    "for i in range(10):\n",
    "    #Create a base MLP Classifier\n",
    "    mod6 = MLPClassifier()\n",
    "    params = {  'hidden_layer_sizes': [(30,50,), (10,10,10,)],\n",
    "        'activation': ['logistic', 'tanh', 'relu', 'identity'],\n",
    "        'solver': ['adam', 'sgd']}\n",
    "    #Create the grid search object\n",
    "    grid = GridSearchCV(mod6, param_grid=params)\n",
    "    #Fit the grid search objet to the data to compute the optimal model\n",
    "    grid = grid.fit(X_train, y_train)\n",
    "    #print('a) best parameter:', grid.best_params_,file=f)\n",
    "    hidden_layer_sizes_ = grid.best_params_['hidden_layer_sizes']\n",
    "    activation_= grid.best_params_['activation']\n",
    "    solver_= grid.best_params_['solver']\n",
    "    # use best combination of hyper-parameters to train X\n",
    "    mod6_best=MLPClassifier(hidden_layer_sizes=hidden_layer_sizes_,activation=activation_,solver=solver_)\n",
    "    mod6_best.fit(X_train,y_train)\n",
    "\n",
    "\n",
    "    # predict, Perform classification on an array of test vectors X.\n",
    "    y_pred_class = mod6_best.predict(X_test)\n",
    "\n",
    "    # b) confusion matrix\n",
    "    confusion = metrics.confusion_matrix(y_test, y_pred_class)\n",
    "   \n",
    "    # c) the precision, recall and F1-measure for each class\n",
    "    \n",
    "\n",
    "    # d) the accuracy, macro-average F1 and weighted-average F1 of the model\n",
    "\n",
    "    accuracy = metrics.accuracy_score(y_test, y_pred_class)\n",
    " #   print(\"(d) the accuracy, macro-average F1 and weighted-average F1 of the model: \",file=f)\n",
    "  #  print(\"Accuracy score of the test set is : \" + str(accuracy),file=f)\n",
    "    macro_avg_F1 = metrics.f1_score(y_test, y_pred_class, average='macro')\n",
    " #   print(\"Macro average F1 of the test set is : \" + str(macro_avg_F1),file=f)\n",
    "    weighted_avg_F1 = metrics.f1_score(y_test, y_pred_class, average='weighted')\n",
    "  #  print(\"Weighted average F1 of the test set is : \" + str(weighted_avg_F1),file=f)\n",
    "    a.append(accuracy)\n",
    "    m.append(macro_avg_F1)\n",
    "    w.append(weighted_avg_F1)\n",
    "    totalAccuray+=accuracy\n",
    "    totalMacro+=macro_avg_F1\n",
    "    totalWeight+=weighted_avg_F1\n",
    "    \n",
    "print(\"the list of accuracy\"+str(a), file=f)\n",
    "print(\"average of accuracy score of hte test set is :\"+str(totalAccuray/10), file=f)\n",
    "print(\"standard deviation for accuracy: \"+str(statistics.stdev(a)), file=f)\n",
    "print(\"the list of Macro average F1\"+str(m), file=f)\n",
    "print(\"average of Macro average F1 of the test set is : \" + str(totalMacro/10), file=f)\n",
    "print(\"standard deviation for Macro average F1: \"+str(statistics.stdev(m)), file=f)\n",
    "print(\"the list of weight average F1: \"+str(w), file=f)\n",
    "print(\"average of Weighted average F1 of the test set is : \" + str(totalWeight/10), file=f)\n",
    "print(\"standard deviation for weight average F1: \"+str(statistics.stdev(w)), file=f)\n",
    "\n",
    "\n",
    "\n",
    "\n",
    "    \n",
    "    \n",
    "    \n",
    "   "
   ],
   "outputs": [
    {
     "output_type": "stream",
     "name": "stdout",
     "text": [
      "**************************************************************************************\n"
     ]
    }
   ],
   "metadata": {}
  }
 ],
 "metadata": {
  "interpreter": {
   "hash": "f8fce6691405556ffb3062e1861de211962c440fc65c8599586c6206ef07fdf2"
  },
  "kernelspec": {
   "name": "python3",
   "display_name": "Python 3.8.8 64-bit ('base': conda)"
  },
  "language_info": {
   "codemirror_mode": {
    "name": "ipython",
    "version": 3
   },
   "file_extension": ".py",
   "mimetype": "text/x-python",
   "name": "python",
   "nbconvert_exporter": "python",
   "pygments_lexer": "ipython3",
   "version": "3.8.8"
  }
 },
 "nbformat": 4,
 "nbformat_minor": 5
}